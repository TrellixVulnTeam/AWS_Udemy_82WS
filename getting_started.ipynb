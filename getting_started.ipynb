{
 "cells": [
  {
   "cell_type": "code",
   "execution_count": 4,
   "id": "4afa68c7",
   "metadata": {},
   "outputs": [],
   "source": [
    "import boto3\n",
    "s3_client = boto3.client('s3')"
   ]
  },
  {
   "cell_type": "code",
   "execution_count": 6,
   "id": "d6533fb4",
   "metadata": {},
   "outputs": [
    {
     "data": {
      "text/plain": [
       "{'ResponseMetadata': {'RequestId': '6RPP7Z392CFT1PQK',\n",
       "  'HostId': 'Nn3RkzB45qQTovKD4BxGOjAsbOMPQEEx0Ws34XEapeOJ0Vm0Ogjg9IYpiX7KSqdFtOEAjv29yOQ=',\n",
       "  'HTTPStatusCode': 200,\n",
       "  'HTTPHeaders': {'x-amz-id-2': 'Nn3RkzB45qQTovKD4BxGOjAsbOMPQEEx0Ws34XEapeOJ0Vm0Ogjg9IYpiX7KSqdFtOEAjv29yOQ=',\n",
       "   'x-amz-request-id': '6RPP7Z392CFT1PQK',\n",
       "   'date': 'Sat, 07 May 2022 18:01:14 GMT',\n",
       "   'content-type': 'application/xml',\n",
       "   'transfer-encoding': 'chunked',\n",
       "   'server': 'AmazonS3'},\n",
       "  'RetryAttempts': 0},\n",
       " 'Buckets': [],\n",
       " 'Owner': {'DisplayName': 'rmmaf98',\n",
       "  'ID': '793c8cf42c7f1e92ebdc70d5ade4f1c4b9d4d13511ffa6feb262628fcfcf02f9'}}"
      ]
     },
     "execution_count": 6,
     "metadata": {},
     "output_type": "execute_result"
    }
   ],
   "source": [
    "s3_client.list_buckets()"
   ]
  }
 ],
 "metadata": {
  "interpreter": {
   "hash": "9418104a8c18e17c4a7b5cba023df23cde7ec3f7eb84a72d21cff87bbb175a86"
  },
  "kernelspec": {
   "display_name": "Python 3.8.10 ('course-env': venv)",
   "language": "python",
   "name": "python3"
  },
  "language_info": {
   "codemirror_mode": {
    "name": "ipython",
    "version": 3
   },
   "file_extension": ".py",
   "mimetype": "text/x-python",
   "name": "python",
   "nbconvert_exporter": "python",
   "pygments_lexer": "ipython3",
   "version": "3.8.10"
  }
 },
 "nbformat": 4,
 "nbformat_minor": 5
}
